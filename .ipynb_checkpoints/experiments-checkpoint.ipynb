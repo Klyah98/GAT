{
 "cells": [
  {
   "cell_type": "code",
   "execution_count": 1,
   "metadata": {},
   "outputs": [],
   "source": [
    "import torch\n",
    "from torch import optim\n",
    "import matplotlib.pyplot as plt\n",
    "\n",
    "from GAT_model import GAT\n",
    "from trainer import Trainer\n",
    "from datasets_list import datasets_list"
   ]
  },
  {
   "cell_type": "markdown",
   "metadata": {},
   "source": [
    "First, detect the device: CPU or GPU"
   ]
  },
  {
   "cell_type": "code",
   "execution_count": 2,
   "metadata": {
    "colab": {
     "base_uri": "https://localhost:8080/",
     "height": 151
    },
    "executionInfo": {
     "elapsed": 289334,
     "status": "ok",
     "timestamp": 1624372966023,
     "user": {
      "displayName": "Сергей Кляхандлер",
      "photoUrl": "",
      "userId": "14390022417353899038"
     },
     "user_tz": -180
    },
    "id": "rC2LJw1OAop8",
    "outputId": "e0ec4932-1abc-4fba-9867-ac0eb2ccf1f4"
   },
   "outputs": [
    {
     "name": "stdout",
     "output_type": "stream",
     "text": [
      "Using device: cpu\n"
     ]
    }
   ],
   "source": [
    "device = torch.device('cuda' if torch.cuda.is_available() else 'cpu')\n",
    "print('Using device:', device)\n",
    "\n",
    "if device.type == 'cuda':\n",
    "    print(torch.cuda.get_device_name(0))\n",
    "    print('Memory Usage:')\n",
    "    print('Allocated:', round(torch.cuda.memory_allocated(0)/1024**3,1), 'GB')\n",
    "    print('Cached:   ', round(torch.cuda.memory_reserved(0)/1024**3,1), 'GB')"
   ]
  },
  {
   "cell_type": "markdown",
   "metadata": {},
   "source": [
    "Then, define one of the datasets (`Cora`, `Pubmed` or `Citeseer`), load all constants for it and the data"
   ]
  },
  {
   "cell_type": "code",
   "execution_count": 3,
   "metadata": {},
   "outputs": [],
   "source": [
    "dataset = 'cora'\n",
    "\n",
    "data_loader = datasets_list[dataset]['load_function']\n",
    "_, _, _, NUM_INPUT_FEATURES, NUM_CLASSES = datasets_list[dataset]['constants']"
   ]
  },
  {
   "cell_type": "code",
   "execution_count": 4,
   "metadata": {},
   "outputs": [
    {
     "data": {
      "application/vnd.jupyter.widget-view+json": {
       "model_id": "38313eacdff34ab2938406807487af55",
       "version_major": 2,
       "version_minor": 0
      },
      "text/plain": [
       "  0%|          | 0/2708 [00:00<?, ?it/s]"
      ]
     },
     "metadata": {},
     "output_type": "display_data"
    },
    {
     "name": "stderr",
     "output_type": "stream",
     "text": [
      "/Library/Frameworks/Python.framework/Versions/3.8/lib/python3.8/site-packages/scipy/sparse/_index.py:82: SparseEfficiencyWarning: Changing the sparsity structure of a csr_matrix is expensive. lil_matrix is more efficient.\n",
      "  self._set_intXint(row, col, x.flat[0])\n"
     ]
    }
   ],
   "source": [
    "data = data_loader(f'datasets/{dataset}/', device=device)"
   ]
  },
  {
   "cell_type": "markdown",
   "metadata": {},
   "source": [
    "Deifne GAT model, optimizer, trainer and train network (with or without logs)"
   ]
  },
  {
   "cell_type": "code",
   "execution_count": 5,
   "metadata": {
    "colab": {
     "base_uri": "https://localhost:8080/",
     "height": 373
    },
    "executionInfo": {
     "elapsed": 746,
     "status": "error",
     "timestamp": 1624373072978,
     "user": {
      "displayName": "Сергей Кляхандлер",
      "photoUrl": "",
      "userId": "14390022417353899038"
     },
     "user_tz": -180
    },
    "id": "2jazjUuUACsp",
    "outputId": "21ceda85-6662-443e-e706-4f9075938918"
   },
   "outputs": [
    {
     "data": {
      "application/vnd.jupyter.widget-view+json": {
       "model_id": "674b47ef63ab48ad82db87223d9224d8",
       "version_major": 2,
       "version_minor": 0
      },
      "text/plain": [
       "  0%|          | 0/50 [00:00<?, ?it/s]"
      ]
     },
     "metadata": {},
     "output_type": "display_data"
    },
    {
     "name": "stdout",
     "output_type": "stream",
     "text": [
      "----------------------\n",
      "train 0.16428571428571428\n",
      "val 0.238\n",
      "----------------------\n",
      "train 0.20714285714285716\n",
      "val 0.282\n",
      "----------------------\n",
      "train 0.14285714285714285\n",
      "val 0.33\n",
      "----------------------\n",
      "train 0.19285714285714287\n",
      "val 0.384\n",
      "----------------------\n",
      "train 0.22142857142857142\n",
      "val 0.408\n",
      "----------------------\n",
      "train 0.3142857142857143\n",
      "val 0.442\n",
      "----------------------\n",
      "train 0.30714285714285716\n",
      "val 0.446\n",
      "----------------------\n",
      "train 0.37142857142857144\n",
      "val 0.462\n",
      "----------------------\n",
      "train 0.34285714285714286\n",
      "val 0.478\n",
      "----------------------\n",
      "train 0.32857142857142857\n",
      "val 0.49\n",
      "----------------------\n",
      "train 0.37857142857142856\n",
      "val 0.512\n",
      "----------------------\n",
      "train 0.40714285714285714\n",
      "val 0.522\n",
      "----------------------\n",
      "train 0.37857142857142856\n",
      "val 0.53\n",
      "----------------------\n",
      "train 0.45714285714285713\n",
      "val 0.538\n",
      "----------------------\n",
      "train 0.45714285714285713\n",
      "val 0.536\n",
      "----------------------\n",
      "train 0.4\n",
      "val 0.538\n",
      "----------------------\n",
      "train 0.45\n",
      "val 0.538\n",
      "----------------------\n",
      "train 0.4714285714285714\n",
      "val 0.554\n",
      "----------------------\n",
      "train 0.5642857142857143\n",
      "val 0.556\n",
      "----------------------\n",
      "train 0.5428571428571428\n",
      "val 0.562\n",
      "----------------------\n",
      "train 0.4357142857142857\n",
      "val 0.568\n",
      "----------------------\n",
      "train 0.5357142857142857\n",
      "val 0.578\n",
      "----------------------\n",
      "train 0.5071428571428571\n",
      "val 0.592\n",
      "----------------------\n",
      "train 0.5571428571428572\n",
      "val 0.608\n",
      "----------------------\n",
      "train 0.4928571428571429\n",
      "val 0.62\n",
      "----------------------\n",
      "train 0.5142857142857142\n",
      "val 0.628\n",
      "----------------------\n",
      "train 0.5071428571428571\n",
      "val 0.64\n",
      "----------------------\n",
      "train 0.5642857142857143\n",
      "val 0.65\n",
      "----------------------\n",
      "train 0.5428571428571428\n",
      "val 0.656\n",
      "----------------------\n",
      "train 0.5214285714285715\n",
      "val 0.666\n",
      "----------------------\n",
      "train 0.5714285714285714\n",
      "val 0.674\n",
      "----------------------\n",
      "train 0.5357142857142857\n",
      "val 0.682\n",
      "----------------------\n",
      "train 0.4857142857142857\n",
      "val 0.684\n",
      "----------------------\n",
      "train 0.5285714285714286\n",
      "val 0.69\n",
      "----------------------\n",
      "train 0.5642857142857143\n",
      "val 0.694\n",
      "----------------------\n",
      "train 0.6571428571428571\n",
      "val 0.702\n",
      "----------------------\n",
      "train 0.4928571428571429\n",
      "val 0.702\n",
      "----------------------\n",
      "train 0.5785714285714286\n",
      "val 0.71\n",
      "----------------------\n",
      "train 0.6142857142857143\n",
      "val 0.714\n",
      "----------------------\n",
      "train 0.6357142857142857\n",
      "val 0.72\n",
      "----------------------\n",
      "train 0.5857142857142857\n",
      "val 0.722\n",
      "----------------------\n",
      "train 0.6571428571428571\n",
      "val 0.72\n",
      "----------------------\n",
      "train 0.6928571428571428\n",
      "val 0.718\n",
      "----------------------\n",
      "train 0.55\n",
      "val 0.724\n",
      "----------------------\n",
      "train 0.5642857142857143\n",
      "val 0.724\n",
      "----------------------\n",
      "train 0.6428571428571429\n",
      "val 0.72\n",
      "----------------------\n",
      "train 0.6142857142857143\n",
      "val 0.726\n",
      "----------------------\n",
      "train 0.6428571428571429\n",
      "val 0.722\n",
      "----------------------\n",
      "train 0.5714285714285714\n",
      "val 0.724\n",
      "----------------------\n",
      "train 0.5714285714285714\n",
      "val 0.726\n",
      "test 0.734\n"
     ]
    }
   ],
   "source": [
    "model = GAT(\n",
    "    num_of_layers=2,\n",
    "    num_heads_per_layer=[1, 1],\n",
    "    num_features_per_layer=[NUM_INPUT_FEATURES, 50, NUM_CLASSES],\n",
    "    add_skip_connection=False,\n",
    "    bias=True,\n",
    "    dropout=0.7,\n",
    ")\n",
    "\n",
    "optimizer = optim.Adam(model.parameters(), lr=1e-3, weight_decay=1e-3)\n",
    "trainer = Trainer(model=model, optimizer=optimizer, data=data, return_logs=True)\n",
    "\n",
    "logs_na = trainer.train(50)"
   ]
  },
  {
   "cell_type": "code",
   "execution_count": null,
   "metadata": {
    "id": "nbgKLYtDJrE4"
   },
   "outputs": [],
   "source": []
  }
 ],
 "metadata": {
  "accelerator": "GPU",
  "colab": {
   "authorship_tag": "ABX9TyM3rWK3ps9xnpfY1aQuuAGR",
   "collapsed_sections": [],
   "mount_file_id": "1CwsWggxDXbpaPt5iJiJAi8RSIdIj-D62",
   "name": "pubmed.ipynb",
   "version": ""
  },
  "kernelspec": {
   "display_name": "Python 3",
   "language": "python",
   "name": "python3"
  },
  "language_info": {
   "codemirror_mode": {
    "name": "ipython",
    "version": 3
   },
   "file_extension": ".py",
   "mimetype": "text/x-python",
   "name": "python",
   "nbconvert_exporter": "python",
   "pygments_lexer": "ipython3",
   "version": "3.8.7"
  },
  "widgets": {
   "application/vnd.jupyter.widget-state+json": {
    "205e10d420b040db9131aff06d054b58": {
     "model_module": "@jupyter-widgets/controls",
     "model_name": "HBoxModel",
     "state": {
      "_dom_classes": [],
      "_model_module": "@jupyter-widgets/controls",
      "_model_module_version": "1.5.0",
      "_model_name": "HBoxModel",
      "_view_count": null,
      "_view_module": "@jupyter-widgets/controls",
      "_view_module_version": "1.5.0",
      "_view_name": "HBoxView",
      "box_style": "",
      "children": [
       "IPY_MODEL_d1e1ed79ca794c13b41db4afce8643b8",
       "IPY_MODEL_e242a39d6da64923985b66ec5848a0a4"
      ],
      "layout": "IPY_MODEL_b10946cb163545d8ae9a6f14db162068"
     }
    },
    "3c6bc24dffcc49369ec30c87f72c928f": {
     "model_module": "@jupyter-widgets/controls",
     "model_name": "DescriptionStyleModel",
     "state": {
      "_model_module": "@jupyter-widgets/controls",
      "_model_module_version": "1.5.0",
      "_model_name": "DescriptionStyleModel",
      "_view_count": null,
      "_view_module": "@jupyter-widgets/base",
      "_view_module_version": "1.2.0",
      "_view_name": "StyleView",
      "description_width": ""
     }
    },
    "4b7330723ca64281a13d875d7bca7d21": {
     "model_module": "@jupyter-widgets/controls",
     "model_name": "HBoxModel",
     "state": {
      "_dom_classes": [],
      "_model_module": "@jupyter-widgets/controls",
      "_model_module_version": "1.5.0",
      "_model_name": "HBoxModel",
      "_view_count": null,
      "_view_module": "@jupyter-widgets/controls",
      "_view_module_version": "1.5.0",
      "_view_name": "HBoxView",
      "box_style": "",
      "children": [
       "IPY_MODEL_c02a191c3bd54247841e8263551304e3",
       "IPY_MODEL_a6095f06679248cbbdf4b77fd8f79be3"
      ],
      "layout": "IPY_MODEL_7a00344294174277812dcdd35ea72b1e"
     }
    },
    "7a00344294174277812dcdd35ea72b1e": {
     "model_module": "@jupyter-widgets/base",
     "model_name": "LayoutModel",
     "state": {
      "_model_module": "@jupyter-widgets/base",
      "_model_module_version": "1.2.0",
      "_model_name": "LayoutModel",
      "_view_count": null,
      "_view_module": "@jupyter-widgets/base",
      "_view_module_version": "1.2.0",
      "_view_name": "LayoutView",
      "align_content": null,
      "align_items": null,
      "align_self": null,
      "border": null,
      "bottom": null,
      "display": null,
      "flex": null,
      "flex_flow": null,
      "grid_area": null,
      "grid_auto_columns": null,
      "grid_auto_flow": null,
      "grid_auto_rows": null,
      "grid_column": null,
      "grid_gap": null,
      "grid_row": null,
      "grid_template_areas": null,
      "grid_template_columns": null,
      "grid_template_rows": null,
      "height": null,
      "justify_content": null,
      "justify_items": null,
      "left": null,
      "margin": null,
      "max_height": null,
      "max_width": null,
      "min_height": null,
      "min_width": null,
      "object_fit": null,
      "object_position": null,
      "order": null,
      "overflow": null,
      "overflow_x": null,
      "overflow_y": null,
      "padding": null,
      "right": null,
      "top": null,
      "visibility": null,
      "width": null
     }
    },
    "99baf038be804e049407cfd6cff5d26b": {
     "model_module": "@jupyter-widgets/controls",
     "model_name": "ProgressStyleModel",
     "state": {
      "_model_module": "@jupyter-widgets/controls",
      "_model_module_version": "1.5.0",
      "_model_name": "ProgressStyleModel",
      "_view_count": null,
      "_view_module": "@jupyter-widgets/base",
      "_view_module_version": "1.2.0",
      "_view_name": "StyleView",
      "bar_color": null,
      "description_width": "initial"
     }
    },
    "a6095f06679248cbbdf4b77fd8f79be3": {
     "model_module": "@jupyter-widgets/controls",
     "model_name": "HTMLModel",
     "state": {
      "_dom_classes": [],
      "_model_module": "@jupyter-widgets/controls",
      "_model_module_version": "1.5.0",
      "_model_name": "HTMLModel",
      "_view_count": null,
      "_view_module": "@jupyter-widgets/controls",
      "_view_module_version": "1.5.0",
      "_view_name": "HTMLView",
      "description": "",
      "description_tooltip": null,
      "layout": "IPY_MODEL_e2b518ab95bc4eafba541aaea5ecdf54",
      "placeholder": "​",
      "style": "IPY_MODEL_c3f6ca0d12af4241aaa789bc0a36036a",
      "value": " 19719/? [06:56&lt;00:00, 47.38it/s]"
     }
    },
    "b10946cb163545d8ae9a6f14db162068": {
     "model_module": "@jupyter-widgets/base",
     "model_name": "LayoutModel",
     "state": {
      "_model_module": "@jupyter-widgets/base",
      "_model_module_version": "1.2.0",
      "_model_name": "LayoutModel",
      "_view_count": null,
      "_view_module": "@jupyter-widgets/base",
      "_view_module_version": "1.2.0",
      "_view_name": "LayoutView",
      "align_content": null,
      "align_items": null,
      "align_self": null,
      "border": null,
      "bottom": null,
      "display": null,
      "flex": null,
      "flex_flow": null,
      "grid_area": null,
      "grid_auto_columns": null,
      "grid_auto_flow": null,
      "grid_auto_rows": null,
      "grid_column": null,
      "grid_gap": null,
      "grid_row": null,
      "grid_template_areas": null,
      "grid_template_columns": null,
      "grid_template_rows": null,
      "height": null,
      "justify_content": null,
      "justify_items": null,
      "left": null,
      "margin": null,
      "max_height": null,
      "max_width": null,
      "min_height": null,
      "min_width": null,
      "object_fit": null,
      "object_position": null,
      "order": null,
      "overflow": null,
      "overflow_x": null,
      "overflow_y": null,
      "padding": null,
      "right": null,
      "top": null,
      "visibility": null,
      "width": null
     }
    },
    "b779c6eeec6147ef9d6c58bd33d4f560": {
     "model_module": "@jupyter-widgets/base",
     "model_name": "LayoutModel",
     "state": {
      "_model_module": "@jupyter-widgets/base",
      "_model_module_version": "1.2.0",
      "_model_name": "LayoutModel",
      "_view_count": null,
      "_view_module": "@jupyter-widgets/base",
      "_view_module_version": "1.2.0",
      "_view_name": "LayoutView",
      "align_content": null,
      "align_items": null,
      "align_self": null,
      "border": null,
      "bottom": null,
      "display": null,
      "flex": null,
      "flex_flow": null,
      "grid_area": null,
      "grid_auto_columns": null,
      "grid_auto_flow": null,
      "grid_auto_rows": null,
      "grid_column": null,
      "grid_gap": null,
      "grid_row": null,
      "grid_template_areas": null,
      "grid_template_columns": null,
      "grid_template_rows": null,
      "height": null,
      "justify_content": null,
      "justify_items": null,
      "left": null,
      "margin": null,
      "max_height": null,
      "max_width": null,
      "min_height": null,
      "min_width": null,
      "object_fit": null,
      "object_position": null,
      "order": null,
      "overflow": null,
      "overflow_x": null,
      "overflow_y": null,
      "padding": null,
      "right": null,
      "top": null,
      "visibility": null,
      "width": null
     }
    },
    "c02a191c3bd54247841e8263551304e3": {
     "model_module": "@jupyter-widgets/controls",
     "model_name": "FloatProgressModel",
     "state": {
      "_dom_classes": [],
      "_model_module": "@jupyter-widgets/controls",
      "_model_module_version": "1.5.0",
      "_model_name": "FloatProgressModel",
      "_view_count": null,
      "_view_module": "@jupyter-widgets/controls",
      "_view_module_version": "1.5.0",
      "_view_name": "ProgressView",
      "bar_style": "success",
      "description": "",
      "description_tooltip": null,
      "layout": "IPY_MODEL_b779c6eeec6147ef9d6c58bd33d4f560",
      "max": 1,
      "min": 0,
      "orientation": "horizontal",
      "style": "IPY_MODEL_99baf038be804e049407cfd6cff5d26b",
      "value": 1
     }
    },
    "c3f6ca0d12af4241aaa789bc0a36036a": {
     "model_module": "@jupyter-widgets/controls",
     "model_name": "DescriptionStyleModel",
     "state": {
      "_model_module": "@jupyter-widgets/controls",
      "_model_module_version": "1.5.0",
      "_model_name": "DescriptionStyleModel",
      "_view_count": null,
      "_view_module": "@jupyter-widgets/base",
      "_view_module_version": "1.2.0",
      "_view_name": "StyleView",
      "description_width": ""
     }
    },
    "d1e1ed79ca794c13b41db4afce8643b8": {
     "model_module": "@jupyter-widgets/controls",
     "model_name": "FloatProgressModel",
     "state": {
      "_dom_classes": [],
      "_model_module": "@jupyter-widgets/controls",
      "_model_module_version": "1.5.0",
      "_model_name": "FloatProgressModel",
      "_view_count": null,
      "_view_module": "@jupyter-widgets/controls",
      "_view_module_version": "1.5.0",
      "_view_name": "ProgressView",
      "bar_style": "danger",
      "description": "  0%",
      "description_tooltip": null,
      "layout": "IPY_MODEL_e4ef6942ad74467eb6a8170a5e818250",
      "max": 500,
      "min": 0,
      "orientation": "horizontal",
      "style": "IPY_MODEL_dea8aa126da0428da5d2947f0ce16fcf",
      "value": 0
     }
    },
    "dea8aa126da0428da5d2947f0ce16fcf": {
     "model_module": "@jupyter-widgets/controls",
     "model_name": "ProgressStyleModel",
     "state": {
      "_model_module": "@jupyter-widgets/controls",
      "_model_module_version": "1.5.0",
      "_model_name": "ProgressStyleModel",
      "_view_count": null,
      "_view_module": "@jupyter-widgets/base",
      "_view_module_version": "1.2.0",
      "_view_name": "StyleView",
      "bar_color": null,
      "description_width": "initial"
     }
    },
    "df9a0c4775af4c1fb3f0df94738c1240": {
     "model_module": "@jupyter-widgets/base",
     "model_name": "LayoutModel",
     "state": {
      "_model_module": "@jupyter-widgets/base",
      "_model_module_version": "1.2.0",
      "_model_name": "LayoutModel",
      "_view_count": null,
      "_view_module": "@jupyter-widgets/base",
      "_view_module_version": "1.2.0",
      "_view_name": "LayoutView",
      "align_content": null,
      "align_items": null,
      "align_self": null,
      "border": null,
      "bottom": null,
      "display": null,
      "flex": null,
      "flex_flow": null,
      "grid_area": null,
      "grid_auto_columns": null,
      "grid_auto_flow": null,
      "grid_auto_rows": null,
      "grid_column": null,
      "grid_gap": null,
      "grid_row": null,
      "grid_template_areas": null,
      "grid_template_columns": null,
      "grid_template_rows": null,
      "height": null,
      "justify_content": null,
      "justify_items": null,
      "left": null,
      "margin": null,
      "max_height": null,
      "max_width": null,
      "min_height": null,
      "min_width": null,
      "object_fit": null,
      "object_position": null,
      "order": null,
      "overflow": null,
      "overflow_x": null,
      "overflow_y": null,
      "padding": null,
      "right": null,
      "top": null,
      "visibility": null,
      "width": null
     }
    },
    "e242a39d6da64923985b66ec5848a0a4": {
     "model_module": "@jupyter-widgets/controls",
     "model_name": "HTMLModel",
     "state": {
      "_dom_classes": [],
      "_model_module": "@jupyter-widgets/controls",
      "_model_module_version": "1.5.0",
      "_model_name": "HTMLModel",
      "_view_count": null,
      "_view_module": "@jupyter-widgets/controls",
      "_view_module_version": "1.5.0",
      "_view_name": "HTMLView",
      "description": "",
      "description_tooltip": null,
      "layout": "IPY_MODEL_df9a0c4775af4c1fb3f0df94738c1240",
      "placeholder": "​",
      "style": "IPY_MODEL_3c6bc24dffcc49369ec30c87f72c928f",
      "value": " 0/500 [00:00&lt;?, ?it/s]"
     }
    },
    "e2b518ab95bc4eafba541aaea5ecdf54": {
     "model_module": "@jupyter-widgets/base",
     "model_name": "LayoutModel",
     "state": {
      "_model_module": "@jupyter-widgets/base",
      "_model_module_version": "1.2.0",
      "_model_name": "LayoutModel",
      "_view_count": null,
      "_view_module": "@jupyter-widgets/base",
      "_view_module_version": "1.2.0",
      "_view_name": "LayoutView",
      "align_content": null,
      "align_items": null,
      "align_self": null,
      "border": null,
      "bottom": null,
      "display": null,
      "flex": null,
      "flex_flow": null,
      "grid_area": null,
      "grid_auto_columns": null,
      "grid_auto_flow": null,
      "grid_auto_rows": null,
      "grid_column": null,
      "grid_gap": null,
      "grid_row": null,
      "grid_template_areas": null,
      "grid_template_columns": null,
      "grid_template_rows": null,
      "height": null,
      "justify_content": null,
      "justify_items": null,
      "left": null,
      "margin": null,
      "max_height": null,
      "max_width": null,
      "min_height": null,
      "min_width": null,
      "object_fit": null,
      "object_position": null,
      "order": null,
      "overflow": null,
      "overflow_x": null,
      "overflow_y": null,
      "padding": null,
      "right": null,
      "top": null,
      "visibility": null,
      "width": null
     }
    },
    "e4ef6942ad74467eb6a8170a5e818250": {
     "model_module": "@jupyter-widgets/base",
     "model_name": "LayoutModel",
     "state": {
      "_model_module": "@jupyter-widgets/base",
      "_model_module_version": "1.2.0",
      "_model_name": "LayoutModel",
      "_view_count": null,
      "_view_module": "@jupyter-widgets/base",
      "_view_module_version": "1.2.0",
      "_view_name": "LayoutView",
      "align_content": null,
      "align_items": null,
      "align_self": null,
      "border": null,
      "bottom": null,
      "display": null,
      "flex": null,
      "flex_flow": null,
      "grid_area": null,
      "grid_auto_columns": null,
      "grid_auto_flow": null,
      "grid_auto_rows": null,
      "grid_column": null,
      "grid_gap": null,
      "grid_row": null,
      "grid_template_areas": null,
      "grid_template_columns": null,
      "grid_template_rows": null,
      "height": null,
      "justify_content": null,
      "justify_items": null,
      "left": null,
      "margin": null,
      "max_height": null,
      "max_width": null,
      "min_height": null,
      "min_width": null,
      "object_fit": null,
      "object_position": null,
      "order": null,
      "overflow": null,
      "overflow_x": null,
      "overflow_y": null,
      "padding": null,
      "right": null,
      "top": null,
      "visibility": null,
      "width": null
     }
    }
   }
  }
 },
 "nbformat": 4,
 "nbformat_minor": 1
}
